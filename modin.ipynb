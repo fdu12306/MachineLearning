{
 "cells": [
  {
   "cell_type": "code",
   "execution_count": 1,
   "id": "07eee0b7-b84a-411e-a78c-d02c89f74837",
   "metadata": {},
   "outputs": [
    {
     "name": "stdout",
     "output_type": "stream",
     "text": [
      "--2023-11-15 03:03:31--  https://filerepo.idzcn.com/dataset/assignment_1.zip\n",
      "Resolving filerepo.idzcn.com (filerepo.idzcn.com)... 124.225.184.41, 183.131.118.41, 123.184.58.41, ...\n",
      "Connecting to filerepo.idzcn.com (filerepo.idzcn.com)|124.225.184.41|:443... connected.\n",
      "HTTP request sent, awaiting response... 200 OK\n",
      "Length: 69155672 (66M) [application/zip]\n",
      "Saving to: ‘assignment_1.zip.2’\n",
      "\n",
      "assignment_1.zip.2  100%[===================>]  65.95M  3.96MB/s    in 19s     \n",
      "\n",
      "2023-11-15 03:03:51 (3.52 MB/s) - ‘assignment_1.zip.2’ saved [69155672/69155672]\n",
      "\n",
      "Archive:  assignment_1.zip\n",
      "  inflating: creditcard.csv          \n"
     ]
    }
   ],
   "source": [
    "#下载数据集并解压\n",
    "!wget https://filerepo.idzcn.com/dataset/assignment_1.zip\n",
    "!unzip assignment_1.zip"
   ]
  },
  {
   "cell_type": "code",
   "execution_count": 2,
   "id": "2c8f3623-a5b8-4c2a-8dd6-01dd9be65bc3",
   "metadata": {},
   "outputs": [],
   "source": [
    "# 使用modin\n",
    "import modin.pandas as pd\n",
    "import modin.config as cfg\n",
    "cfg.StorageFormat.put('hdk')"
   ]
  },
  {
   "cell_type": "code",
   "execution_count": 3,
   "id": "3a0e959c-5af1-4f61-9c3f-56915a88e4d1",
   "metadata": {},
   "outputs": [],
   "source": [
    "import modin.numpy as np\n",
    "import seaborn as sns\n",
    "import matplotlib.pyplot as plt\n",
    "import time\n",
    "import warnings\n",
    "warnings.filterwarnings('ignore')"
   ]
  },
  {
   "cell_type": "code",
   "execution_count": 4,
   "id": "2f4e2321-affb-43d8-85c1-33e67a5c38e6",
   "metadata": {},
   "outputs": [
    {
     "data": {
      "text/plain": [
       "<bound method BasePandasDataset.head of             Time         V1         V2        V3        V4        V5  \\\n",
       "0            0.0  -1.359807  -0.072781  2.536347  1.378155 -0.338321   \n",
       "1            0.0   1.191857   0.266151  0.166480  0.448154  0.060018   \n",
       "2            1.0  -1.358354  -1.340163  1.773209  0.379780 -0.503198   \n",
       "3            1.0  -0.966272  -0.185226  1.792993 -0.863291 -0.010309   \n",
       "4            2.0  -1.158233   0.877737  1.548718  0.403034 -0.407193   \n",
       "...          ...        ...        ...       ...       ...       ...   \n",
       "284802  172786.0 -11.881118  10.071785 -9.834783 -2.066656 -5.364473   \n",
       "284803  172787.0  -0.732789  -0.055080  2.035030 -0.738589  0.868229   \n",
       "284804  172788.0   1.919565  -0.301254 -3.249640 -0.557828  2.630515   \n",
       "284805  172788.0  -0.240440   0.530483  0.702510  0.689799 -0.377961   \n",
       "284806  172792.0  -0.533413  -0.189733  0.703337 -0.506271 -0.012546   \n",
       "\n",
       "              V6        V7        V8        V9  ...       V21       V22  \\\n",
       "0       0.462388  0.239599  0.098698  0.363787  ... -0.018307  0.277838   \n",
       "1      -0.082361 -0.078803  0.085102 -0.255425  ... -0.225775 -0.638672   \n",
       "2       1.800499  0.791461  0.247676 -1.514654  ...  0.247998  0.771679   \n",
       "3       1.247203  0.237609  0.377436 -1.387024  ... -0.108300  0.005274   \n",
       "4       0.095921  0.592941 -0.270533  0.817739  ... -0.009431  0.798278   \n",
       "...          ...       ...       ...       ...  ...       ...       ...   \n",
       "284802 -2.606837 -4.918215  7.305334  1.914428  ...  0.213454  0.111864   \n",
       "284803  1.058415  0.024330  0.294869  0.584800  ...  0.214205  0.924384   \n",
       "284804  3.031260 -0.296827  0.708417  0.432454  ...  0.232045  0.578229   \n",
       "284805  0.623708 -0.686180  0.679145  0.392087  ...  0.265245  0.800049   \n",
       "284806 -0.649617  1.577006 -0.414650  0.486180  ...  0.261057  0.643078   \n",
       "\n",
       "             V23       V24       V25       V26       V27       V28  Amount  \\\n",
       "0      -0.110474  0.066928  0.128539 -0.189115  0.133558 -0.021053  149.62   \n",
       "1       0.101288 -0.339846  0.167170  0.125895 -0.008983  0.014724    2.69   \n",
       "2       0.909412 -0.689281 -0.327642 -0.139097 -0.055353 -0.059752  378.66   \n",
       "3      -0.190321 -1.175575  0.647376 -0.221929  0.062723  0.061458  123.50   \n",
       "4      -0.137458  0.141267 -0.206010  0.502292  0.219422  0.215153   69.99   \n",
       "...          ...       ...       ...       ...       ...       ...     ...   \n",
       "284802  1.014480 -0.509348  1.436807  0.250034  0.943651  0.823731    0.77   \n",
       "284803  0.012463 -1.016226 -0.606624 -0.395255  0.068472 -0.053527   24.79   \n",
       "284804 -0.037501  0.640134  0.265745 -0.087371  0.004455 -0.026561   67.88   \n",
       "284805 -0.163298  0.123205 -0.569159  0.546668  0.108821  0.104533   10.00   \n",
       "284806  0.376777  0.008797 -0.473649 -0.818267 -0.002415  0.013649  217.00   \n",
       "\n",
       "        Class  \n",
       "0           0  \n",
       "1           0  \n",
       "2           0  \n",
       "3           0  \n",
       "4           0  \n",
       "...       ...  \n",
       "284802      0  \n",
       "284803      0  \n",
       "284804      0  \n",
       "284805      0  \n",
       "284806      0  \n",
       "\n",
       "[284807 rows x 31 columns]>"
      ]
     },
     "execution_count": 4,
     "metadata": {},
     "output_type": "execute_result"
    }
   ],
   "source": [
    "#读取数据集\n",
    "df=pd.read_csv(\"creditcard.csv\")\n",
    "df.head"
   ]
  },
  {
   "cell_type": "code",
   "execution_count": 5,
   "id": "ab389f52-3518-4943-abba-2e244113475c",
   "metadata": {},
   "outputs": [
    {
     "data": {
      "text/plain": [
       "Time      0\n",
       "V1        0\n",
       "V2        0\n",
       "V3        0\n",
       "V4        0\n",
       "V5        0\n",
       "V6        0\n",
       "V7        0\n",
       "V8        0\n",
       "V9        0\n",
       "V10       0\n",
       "V11       0\n",
       "V12       0\n",
       "V13       0\n",
       "V14       0\n",
       "V15       0\n",
       "V16       0\n",
       "V17       0\n",
       "V18       0\n",
       "V19       0\n",
       "V20       0\n",
       "V21       0\n",
       "V22       0\n",
       "V23       0\n",
       "V24       0\n",
       "V25       0\n",
       "V26       0\n",
       "V27       0\n",
       "V28       0\n",
       "Amount    0\n",
       "Class     0\n",
       "dtype: int64"
      ]
     },
     "execution_count": 5,
     "metadata": {},
     "output_type": "execute_result"
    }
   ],
   "source": [
    "#缺省值判断\n",
    "df.isnull().sum()"
   ]
  },
  {
   "cell_type": "code",
   "execution_count": 6,
   "id": "fe1a914e-9d41-4050-a3ce-8f6d8c99aade",
   "metadata": {},
   "outputs": [
    {
     "name": "stderr",
     "output_type": "stream",
     "text": [
      "Intel(R) Extension for Scikit-learn* enabled (https://github.com/intel/scikit-learn-intelex)\n"
     ]
    }
   ],
   "source": [
    "#导入Intel® Extension for Scikit-learn库，调用patch函数加速\n",
    "from sklearnex import patch_sklearn\n",
    "patch_sklearn()\n",
    "\n",
    "from sklearn.preprocessing import StandardScaler\n",
    "from sklearn.model_selection import train_test_split\n",
    "from sklearn.linear_model import LogisticRegression #逻辑回归\n",
    "from sklearn.tree import DecisionTreeClassifier #决策树\n",
    "from sklearn.ensemble import RandomForestClassifier #随机森林\n",
    "from sklearn.model_selection import cross_val_score #交叉验证计算accuracy\n",
    "from sklearn.model_selection import GridSearchCV #网格搜索，获取最优参数\n",
    "from sklearn.model_selection import StratifiedKFold #交叉验证\n",
    "from sklearn.metrics import confusion_matrix,precision_score,recall_score,f1_score,roc_auc_score,accuracy_score\n",
    "from sklearn.metrics import precision_recall_fscore_support\n",
    "from sklearn.metrics import average_precision_score"
   ]
  },
  {
   "cell_type": "code",
   "execution_count": 7,
   "id": "1709654d-29ef-476b-b79f-b2ffd3edcefc",
   "metadata": {},
   "outputs": [
    {
     "data": {
      "text/plain": [
       "<bound method BasePandasDataset.head of                V1         V2        V3        V4        V5        V6  \\\n",
       "0       -1.359807  -0.072781  2.536347  1.378155 -0.338321  0.462388   \n",
       "1        1.191857   0.266151  0.166480  0.448154  0.060018 -0.082361   \n",
       "2       -1.358354  -1.340163  1.773209  0.379780 -0.503198  1.800499   \n",
       "3       -0.966272  -0.185226  1.792993 -0.863291 -0.010309  1.247203   \n",
       "4       -1.158233   0.877737  1.548718  0.403034 -0.407193  0.095921   \n",
       "...           ...        ...       ...       ...       ...       ...   \n",
       "284802 -11.881118  10.071785 -9.834783 -2.066656 -5.364473 -2.606837   \n",
       "284803  -0.732789  -0.055080  2.035030 -0.738589  0.868229  1.058415   \n",
       "284804   1.919565  -0.301254 -3.249640 -0.557828  2.630515  3.031260   \n",
       "284805  -0.240440   0.530483  0.702510  0.689799 -0.377961  0.623708   \n",
       "284806  -0.533413  -0.189733  0.703337 -0.506271 -0.012546 -0.649617   \n",
       "\n",
       "              V7        V8        V9       V10  ...       V22       V23  \\\n",
       "0       0.239599  0.098698  0.363787  0.090794  ...  0.277838 -0.110474   \n",
       "1      -0.078803  0.085102 -0.255425 -0.166974  ... -0.638672  0.101288   \n",
       "2       0.791461  0.247676 -1.514654  0.207643  ...  0.771679  0.909412   \n",
       "3       0.237609  0.377436 -1.387024 -0.054952  ...  0.005274 -0.190321   \n",
       "4       0.592941 -0.270533  0.817739  0.753074  ...  0.798278 -0.137458   \n",
       "...          ...       ...       ...       ...  ...       ...       ...   \n",
       "284802 -4.918215  7.305334  1.914428  4.356170  ...  0.111864  1.014480   \n",
       "284803  0.024330  0.294869  0.584800 -0.975926  ...  0.924384  0.012463   \n",
       "284804 -0.296827  0.708417  0.432454 -0.484782  ...  0.578229 -0.037501   \n",
       "284805 -0.686180  0.679145  0.392087 -0.399126  ...  0.800049 -0.163298   \n",
       "284806  1.577006 -0.414650  0.486180 -0.915427  ...  0.643078  0.376777   \n",
       "\n",
       "             V24       V25       V26       V27       V28  Class  \\\n",
       "0       0.066928  0.128539 -0.189115  0.133558 -0.021053      0   \n",
       "1      -0.339846  0.167170  0.125895 -0.008983  0.014724      0   \n",
       "2      -0.689281 -0.327642 -0.139097 -0.055353 -0.059752      0   \n",
       "3      -1.175575  0.647376 -0.221929  0.062723  0.061458      0   \n",
       "4       0.141267 -0.206010  0.502292  0.219422  0.215153      0   \n",
       "...          ...       ...       ...       ...       ...    ...   \n",
       "284802 -0.509348  1.436807  0.250034  0.943651  0.823731      0   \n",
       "284803 -1.016226 -0.606624 -0.395255  0.068472 -0.053527      0   \n",
       "284804  0.640134  0.265745 -0.087371  0.004455 -0.026561      0   \n",
       "284805  0.123205 -0.569159  0.546668  0.108821  0.104533      0   \n",
       "284806  0.008797 -0.473649 -0.818267 -0.002415  0.013649      0   \n",
       "\n",
       "        scaled_amount  scaled_time  \n",
       "0            0.244964    -1.996583  \n",
       "1           -0.342475    -1.996583  \n",
       "2            1.160686    -1.996562  \n",
       "3            0.140534    -1.996562  \n",
       "4           -0.073403    -1.996541  \n",
       "...               ...          ...  \n",
       "284802      -0.350151     1.641931  \n",
       "284803      -0.254117     1.641952  \n",
       "284804      -0.081839     1.641974  \n",
       "284805      -0.313249     1.641974  \n",
       "284806       0.514355     1.642058  \n",
       "\n",
       "[284807 rows x 31 columns]>"
      ]
     },
     "execution_count": 7,
     "metadata": {},
     "output_type": "execute_result"
    }
   ],
   "source": [
    "#对Amount和Time进行归一化处理\n",
    "df['scaled_amount']=StandardScaler().fit_transform(df['Amount'].values.reshape(-1,1))\n",
    "df['scaled_time']=StandardScaler().fit_transform(df['Time'].values.reshape(-1,1))\n",
    "df.drop(['Amount','Time'],axis=1,inplace=True)#删除Amount和Time\n",
    "df.head"
   ]
  },
  {
   "cell_type": "code",
   "execution_count": 8,
   "id": "dfec45b4-c55f-416f-9199-d3a2c71997c4",
   "metadata": {},
   "outputs": [
    {
     "name": "stdout",
     "output_type": "stream",
     "text": [
      "正常交易数据： 284315\n",
      "欺诈交易数据： 492\n"
     ]
    }
   ],
   "source": [
    "#查看正常交易数据和欺诈交易数据的数量\n",
    "print(\"正常交易数据：\",len(df[df[\"Class\"]==0]))\n",
    "print(\"欺诈交易数据：\",len(df[df[\"Class\"]==1]))"
   ]
  },
  {
   "cell_type": "code",
   "execution_count": 9,
   "id": "86e9a0af-d8b4-4464-bcfe-a71f37ace5bc",
   "metadata": {},
   "outputs": [],
   "source": [
    "#分离特征和标签\n",
    "X=df.drop(\"Class\",axis=1)\n",
    "y=df[\"Class\"]"
   ]
  },
  {
   "cell_type": "code",
   "execution_count": 10,
   "id": "078eb018-7150-4e36-8ba5-4ade4b804f56",
   "metadata": {},
   "outputs": [
    {
     "data": {
      "text/plain": [
       "Class\n",
       "0    28431\n",
       "1    28431\n",
       "Name: count, dtype: int64"
      ]
     },
     "execution_count": 10,
     "metadata": {},
     "output_type": "execute_result"
    }
   ],
   "source": [
    "#针对正负样本数量极不平衡，这里采用SMOTE+undersampling解决数据不平衡\n",
    "from imblearn.over_sampling import SMOTE\n",
    "from imblearn.under_sampling import RandomUnderSampler\n",
    "from imblearn.pipeline import Pipeline\n",
    "#over\n",
    "over=SMOTE(sampling_strategy=0.1)\n",
    "#under\n",
    "under=RandomUnderSampler(sampling_strategy=1)\n",
    "#pipeline\n",
    "steps=[('o',over),('u',under)]\n",
    "pipeline=Pipeline(steps=steps)\n",
    "X_new,y_new=pipeline.fit_resample(X,y)\n",
    "y_new.value_counts()"
   ]
  },
  {
   "cell_type": "code",
   "execution_count": 11,
   "id": "255b0963-1458-49aa-8713-d5e693ba25c9",
   "metadata": {},
   "outputs": [],
   "source": [
    "#划分训练集和测试集\n",
    "X_train,X_test,y_train,y_test=train_test_split(X_new,y_new,test_size=0.2,random_state=42)\n",
    "X_train=X_train.values\n",
    "X_test=X_test.values\n",
    "y_train=y_train.values\n",
    "y_test=y_test.values"
   ]
  },
  {
   "cell_type": "code",
   "execution_count": 12,
   "id": "eb60a801-b2cc-4d1c-b2a4-c64bc8b47cac",
   "metadata": {},
   "outputs": [
    {
     "name": "stderr",
     "output_type": "stream",
     "text": [
      "/home/u206438/.conda/envs/modin-hdk/lib/python3.9/site-packages/daal4py/sklearn/linear_model/logistic_path.py:574: ConvergenceWarning: lbfgs failed to converge (status=2):\n",
      "ABNORMAL_TERMINATION_IN_LNSRCH.\n",
      "\n",
      "Increase the number of iterations (max_iter) or scale the data as shown in:\n",
      "    https://scikit-learn.org/stable/modules/preprocessing.html\n",
      "Please also refer to the documentation for alternative solver options:\n",
      "    https://scikit-learn.org/stable/modules/linear_model.html#logistic-regression\n",
      "  n_iter_i = _check_optimize_result(\n",
      "/home/u206438/.conda/envs/modin-hdk/lib/python3.9/site-packages/daal4py/sklearn/linear_model/logistic_path.py:574: ConvergenceWarning: lbfgs failed to converge (status=2):\n",
      "ABNORMAL_TERMINATION_IN_LNSRCH.\n",
      "\n",
      "Increase the number of iterations (max_iter) or scale the data as shown in:\n",
      "    https://scikit-learn.org/stable/modules/preprocessing.html\n",
      "Please also refer to the documentation for alternative solver options:\n",
      "    https://scikit-learn.org/stable/modules/linear_model.html#logistic-regression\n",
      "  n_iter_i = _check_optimize_result(\n",
      "/home/u206438/.conda/envs/modin-hdk/lib/python3.9/site-packages/daal4py/sklearn/linear_model/logistic_path.py:574: ConvergenceWarning: lbfgs failed to converge (status=2):\n",
      "ABNORMAL_TERMINATION_IN_LNSRCH.\n",
      "\n",
      "Increase the number of iterations (max_iter) or scale the data as shown in:\n",
      "    https://scikit-learn.org/stable/modules/preprocessing.html\n",
      "Please also refer to the documentation for alternative solver options:\n",
      "    https://scikit-learn.org/stable/modules/linear_model.html#logistic-regression\n",
      "  n_iter_i = _check_optimize_result(\n",
      "/home/u206438/.conda/envs/modin-hdk/lib/python3.9/site-packages/daal4py/sklearn/linear_model/logistic_path.py:574: ConvergenceWarning: lbfgs failed to converge (status=1):\n",
      "STOP: TOTAL NO. of ITERATIONS REACHED LIMIT.\n",
      "\n",
      "Increase the number of iterations (max_iter) or scale the data as shown in:\n",
      "    https://scikit-learn.org/stable/modules/preprocessing.html\n",
      "Please also refer to the documentation for alternative solver options:\n",
      "    https://scikit-learn.org/stable/modules/linear_model.html#logistic-regression\n",
      "  n_iter_i = _check_optimize_result(\n",
      "/home/u206438/.conda/envs/modin-hdk/lib/python3.9/site-packages/daal4py/sklearn/linear_model/logistic_path.py:574: ConvergenceWarning: lbfgs failed to converge (status=2):\n",
      "ABNORMAL_TERMINATION_IN_LNSRCH.\n",
      "\n",
      "Increase the number of iterations (max_iter) or scale the data as shown in:\n",
      "    https://scikit-learn.org/stable/modules/preprocessing.html\n",
      "Please also refer to the documentation for alternative solver options:\n",
      "    https://scikit-learn.org/stable/modules/linear_model.html#logistic-regression\n",
      "  n_iter_i = _check_optimize_result(\n",
      "/home/u206438/.conda/envs/modin-hdk/lib/python3.9/site-packages/daal4py/sklearn/linear_model/logistic_path.py:574: ConvergenceWarning: lbfgs failed to converge (status=2):\n",
      "ABNORMAL_TERMINATION_IN_LNSRCH.\n",
      "\n",
      "Increase the number of iterations (max_iter) or scale the data as shown in:\n",
      "    https://scikit-learn.org/stable/modules/preprocessing.html\n",
      "Please also refer to the documentation for alternative solver options:\n",
      "    https://scikit-learn.org/stable/modules/linear_model.html#logistic-regression\n",
      "  n_iter_i = _check_optimize_result(\n",
      "/home/u206438/.conda/envs/modin-hdk/lib/python3.9/site-packages/daal4py/sklearn/linear_model/logistic_path.py:574: ConvergenceWarning: lbfgs failed to converge (status=2):\n",
      "ABNORMAL_TERMINATION_IN_LNSRCH.\n",
      "\n",
      "Increase the number of iterations (max_iter) or scale the data as shown in:\n",
      "    https://scikit-learn.org/stable/modules/preprocessing.html\n",
      "Please also refer to the documentation for alternative solver options:\n",
      "    https://scikit-learn.org/stable/modules/linear_model.html#logistic-regression\n",
      "  n_iter_i = _check_optimize_result(\n",
      "/home/u206438/.conda/envs/modin-hdk/lib/python3.9/site-packages/daal4py/sklearn/linear_model/logistic_path.py:574: ConvergenceWarning: lbfgs failed to converge (status=2):\n",
      "ABNORMAL_TERMINATION_IN_LNSRCH.\n",
      "\n",
      "Increase the number of iterations (max_iter) or scale the data as shown in:\n",
      "    https://scikit-learn.org/stable/modules/preprocessing.html\n",
      "Please also refer to the documentation for alternative solver options:\n",
      "    https://scikit-learn.org/stable/modules/linear_model.html#logistic-regression\n",
      "  n_iter_i = _check_optimize_result(\n",
      "/home/u206438/.conda/envs/modin-hdk/lib/python3.9/site-packages/daal4py/sklearn/linear_model/logistic_path.py:574: ConvergenceWarning: lbfgs failed to converge (status=1):\n",
      "STOP: TOTAL NO. of ITERATIONS REACHED LIMIT.\n",
      "\n",
      "Increase the number of iterations (max_iter) or scale the data as shown in:\n",
      "    https://scikit-learn.org/stable/modules/preprocessing.html\n",
      "Please also refer to the documentation for alternative solver options:\n",
      "    https://scikit-learn.org/stable/modules/linear_model.html#logistic-regression\n",
      "  n_iter_i = _check_optimize_result(\n",
      "/home/u206438/.conda/envs/modin-hdk/lib/python3.9/site-packages/daal4py/sklearn/linear_model/logistic_path.py:574: ConvergenceWarning: lbfgs failed to converge (status=2):\n",
      "ABNORMAL_TERMINATION_IN_LNSRCH.\n",
      "\n",
      "Increase the number of iterations (max_iter) or scale the data as shown in:\n",
      "    https://scikit-learn.org/stable/modules/preprocessing.html\n",
      "Please also refer to the documentation for alternative solver options:\n",
      "    https://scikit-learn.org/stable/modules/linear_model.html#logistic-regression\n",
      "  n_iter_i = _check_optimize_result(\n",
      "/home/u206438/.conda/envs/modin-hdk/lib/python3.9/site-packages/daal4py/sklearn/linear_model/logistic_path.py:574: ConvergenceWarning: lbfgs failed to converge (status=2):\n",
      "ABNORMAL_TERMINATION_IN_LNSRCH.\n",
      "\n",
      "Increase the number of iterations (max_iter) or scale the data as shown in:\n",
      "    https://scikit-learn.org/stable/modules/preprocessing.html\n",
      "Please also refer to the documentation for alternative solver options:\n",
      "    https://scikit-learn.org/stable/modules/linear_model.html#logistic-regression\n",
      "  n_iter_i = _check_optimize_result(\n",
      "/home/u206438/.conda/envs/modin-hdk/lib/python3.9/site-packages/daal4py/sklearn/linear_model/logistic_path.py:574: ConvergenceWarning: lbfgs failed to converge (status=2):\n",
      "ABNORMAL_TERMINATION_IN_LNSRCH.\n",
      "\n",
      "Increase the number of iterations (max_iter) or scale the data as shown in:\n",
      "    https://scikit-learn.org/stable/modules/preprocessing.html\n",
      "Please also refer to the documentation for alternative solver options:\n",
      "    https://scikit-learn.org/stable/modules/linear_model.html#logistic-regression\n",
      "  n_iter_i = _check_optimize_result(\n",
      "/home/u206438/.conda/envs/modin-hdk/lib/python3.9/site-packages/daal4py/sklearn/linear_model/logistic_path.py:574: ConvergenceWarning: lbfgs failed to converge (status=1):\n",
      "STOP: TOTAL NO. of ITERATIONS REACHED LIMIT.\n",
      "\n",
      "Increase the number of iterations (max_iter) or scale the data as shown in:\n",
      "    https://scikit-learn.org/stable/modules/preprocessing.html\n",
      "Please also refer to the documentation for alternative solver options:\n",
      "    https://scikit-learn.org/stable/modules/linear_model.html#logistic-regression\n",
      "  n_iter_i = _check_optimize_result(\n",
      "/home/u206438/.conda/envs/modin-hdk/lib/python3.9/site-packages/daal4py/sklearn/linear_model/logistic_path.py:574: ConvergenceWarning: lbfgs failed to converge (status=2):\n",
      "ABNORMAL_TERMINATION_IN_LNSRCH.\n",
      "\n",
      "Increase the number of iterations (max_iter) or scale the data as shown in:\n",
      "    https://scikit-learn.org/stable/modules/preprocessing.html\n",
      "Please also refer to the documentation for alternative solver options:\n",
      "    https://scikit-learn.org/stable/modules/linear_model.html#logistic-regression\n",
      "  n_iter_i = _check_optimize_result(\n",
      "/home/u206438/.conda/envs/modin-hdk/lib/python3.9/site-packages/daal4py/sklearn/linear_model/logistic_path.py:574: ConvergenceWarning: lbfgs failed to converge (status=2):\n",
      "ABNORMAL_TERMINATION_IN_LNSRCH.\n",
      "\n",
      "Increase the number of iterations (max_iter) or scale the data as shown in:\n",
      "    https://scikit-learn.org/stable/modules/preprocessing.html\n",
      "Please also refer to the documentation for alternative solver options:\n",
      "    https://scikit-learn.org/stable/modules/linear_model.html#logistic-regression\n",
      "  n_iter_i = _check_optimize_result(\n",
      "/home/u206438/.conda/envs/modin-hdk/lib/python3.9/site-packages/daal4py/sklearn/linear_model/logistic_path.py:574: ConvergenceWarning: lbfgs failed to converge (status=2):\n",
      "ABNORMAL_TERMINATION_IN_LNSRCH.\n",
      "\n",
      "Increase the number of iterations (max_iter) or scale the data as shown in:\n",
      "    https://scikit-learn.org/stable/modules/preprocessing.html\n",
      "Please also refer to the documentation for alternative solver options:\n",
      "    https://scikit-learn.org/stable/modules/linear_model.html#logistic-regression\n",
      "  n_iter_i = _check_optimize_result(\n",
      "/home/u206438/.conda/envs/modin-hdk/lib/python3.9/site-packages/daal4py/sklearn/linear_model/logistic_path.py:574: ConvergenceWarning: lbfgs failed to converge (status=2):\n",
      "ABNORMAL_TERMINATION_IN_LNSRCH.\n",
      "\n",
      "Increase the number of iterations (max_iter) or scale the data as shown in:\n",
      "    https://scikit-learn.org/stable/modules/preprocessing.html\n",
      "Please also refer to the documentation for alternative solver options:\n",
      "    https://scikit-learn.org/stable/modules/linear_model.html#logistic-regression\n",
      "  n_iter_i = _check_optimize_result(\n",
      "/home/u206438/.conda/envs/modin-hdk/lib/python3.9/site-packages/daal4py/sklearn/linear_model/logistic_path.py:574: ConvergenceWarning: lbfgs failed to converge (status=1):\n",
      "STOP: TOTAL NO. of ITERATIONS REACHED LIMIT.\n",
      "\n",
      "Increase the number of iterations (max_iter) or scale the data as shown in:\n",
      "    https://scikit-learn.org/stable/modules/preprocessing.html\n",
      "Please also refer to the documentation for alternative solver options:\n",
      "    https://scikit-learn.org/stable/modules/linear_model.html#logistic-regression\n",
      "  n_iter_i = _check_optimize_result(\n",
      "/home/u206438/.conda/envs/modin-hdk/lib/python3.9/site-packages/daal4py/sklearn/linear_model/logistic_path.py:574: ConvergenceWarning: lbfgs failed to converge (status=2):\n",
      "ABNORMAL_TERMINATION_IN_LNSRCH.\n",
      "\n",
      "Increase the number of iterations (max_iter) or scale the data as shown in:\n",
      "    https://scikit-learn.org/stable/modules/preprocessing.html\n",
      "Please also refer to the documentation for alternative solver options:\n",
      "    https://scikit-learn.org/stable/modules/linear_model.html#logistic-regression\n",
      "  n_iter_i = _check_optimize_result(\n"
     ]
    },
    {
     "name": "stdout",
     "output_type": "stream",
     "text": [
      "{'C': 1000, 'penalty': 'l2'}\n",
      "逻辑回归模型用时： 7.89497447013855\n"
     ]
    }
   ],
   "source": [
    "import time\n",
    "#逻辑回归\n",
    "def LR_gs(X_train,y_train):\n",
    "    LR_param={\n",
    "        'penalty':['l1','l2'],\n",
    "        'C':[0.001,0.01,0.1,1,10,100,1000]\n",
    "    }\n",
    "    LR_gs=GridSearchCV(LogisticRegression(),param_grid=LR_param,n_jobs=-1,scoring='average_precision')\n",
    "    LR_gs.fit(X_train,y_train)\n",
    "    LR_estimators=LR_gs.best_estimator_ #最优参数\n",
    "    LR_best_params=LR_gs.best_params_\n",
    "    print(LR_best_params)\n",
    "    return LR_estimators\n",
    "dt_start = time.time()\n",
    "LR_best_estimator=LR_gs(X_train,y_train)\n",
    "print(\"逻辑回归模型用时：\",time.time()-dt_start)"
   ]
  },
  {
   "cell_type": "code",
   "execution_count": 13,
   "id": "095c862c-f1eb-46ce-a210-081d8fd6fdcd",
   "metadata": {},
   "outputs": [
    {
     "name": "stdout",
     "output_type": "stream",
     "text": [
      "{'criterion': 'gini', 'max_depth': 10, 'min_samples_leaf': 8}\n",
      "决策树模型用时： 25.054783821105957\n"
     ]
    }
   ],
   "source": [
    "#决策树\n",
    "def DT_gs(X_train,y_train):\n",
    "    DT_param={\n",
    "        'criterion':['gini','entrogy'],#衡量标准\n",
    "        'max_depth':[5,10,15,20],#最大深度\n",
    "        'min_samples_leaf':list(range(3,10,1))#最小叶子节点数\n",
    "    }\n",
    "    DT_gs=GridSearchCV(DecisionTreeClassifier(),param_grid=DT_param,n_jobs=-1,scoring='average_precision')\n",
    "    DT_gs.fit(X_train,y_train)\n",
    "    DT_estimators=DT_gs.best_estimator_\n",
    "    DT_best_params=DT_gs.best_params_\n",
    "    print(DT_best_params)\n",
    "    return DT_estimators\n",
    "dt_start=time.time()\n",
    "DT_best_estimator=DT_gs(X_train,y_train)\n",
    "print(\"决策树模型用时：\",time.time()-dt_start)"
   ]
  },
  {
   "cell_type": "code",
   "execution_count": 14,
   "id": "c60b0000-de07-4ee2-a166-9fc9f0f0d9b9",
   "metadata": {},
   "outputs": [
    {
     "name": "stdout",
     "output_type": "stream",
     "text": [
      "{'criterion': 'gini', 'max_depth': 20, 'min_samples_split': 2, 'n_estimators': 150}\n",
      "随机森林模型用时： 130.6597638130188\n"
     ]
    }
   ],
   "source": [
    "#随机森林\n",
    "def RFC_gs(X_train,y_train):\n",
    "    RFC_param={\n",
    "        'n_estimators':[100,150,200],#多少棵树\n",
    "        'criterion':['gini','entrogy'],#衡量标准\n",
    "        'max_depth':[5,10,15,20],#最大深度\n",
    "        'min_samples_split':list(range(2,10,1))#最小分割样本\n",
    "    }\n",
    "    RFC_gs=GridSearchCV(RandomForestClassifier(),param_grid=RFC_param,n_jobs=-1,scoring='average_precision')\n",
    "    RFC_gs.fit(X_train,y_train)\n",
    "    RFC_estimators=RFC_gs.best_estimator_\n",
    "    RFC_best_params=RFC_gs.best_params_\n",
    "    print(RFC_best_params)\n",
    "    return RFC_estimators\n",
    "dt_start=time.time()\n",
    "RFC_best_estimator=RFC_gs(X_train,y_train) \n",
    "print(\"随机森林模型用时：\",time.time()-dt_start)"
   ]
  },
  {
   "cell_type": "code",
   "execution_count": 15,
   "id": "d317abf6-4cc2-424b-9606-902b1ccfec8c",
   "metadata": {},
   "outputs": [],
   "source": [
    "result_df=pd.DataFrame(columns=['Accuracy','F1-score','Recall','Precision','AUC_ROC','AUPRC'],\n",
    "                       index=['LR','DT','RFC'])\n",
    "\n",
    "def caculate(models,X_test,y_test):\n",
    "    #计算各种参数的值\n",
    "    Accuracy_result=[]\n",
    "    F1_score_result=[]\n",
    "    Recall_result=[]\n",
    "    Precision_result=[]\n",
    "    AUC_ROC_result=[]\n",
    "    AUPRC_result=[]\n",
    "    \n",
    "    for model in models:\n",
    "        y_pred=model.predict(X_test)\n",
    "        accuracy=accuracy_score(y_test,y_pred) #计算准确率\n",
    "        precision,recall,f1_score,_=precision_recall_fscore_support(y_test,y_pred)#计算精确度，召回率，f1\n",
    "        auc_roc=roc_auc_score(y_test, y_pred)  # 计算AUC\n",
    "        auprc = average_precision_score(y_test, y_pred)#计算AUPRC\n",
    "        \n",
    "        Accuracy_result.append(accuracy)\n",
    "        Precision_result.append(precision)\n",
    "        Recall_result.append(recall)\n",
    "        F1_score_result.append(f1_score)\n",
    "        AUC_ROC_result.append(auc_roc)\n",
    "        AUPRC_result.append(auprc)\n",
    "        \n",
    "    return Accuracy_result,F1_score_result,Recall_result,Precision_result,AUC_ROC_result,AUPRC_result"
   ]
  },
  {
   "cell_type": "code",
   "execution_count": 16,
   "id": "33d29307-4120-4afa-a6ac-b04400af409f",
   "metadata": {},
   "outputs": [
    {
     "data": {
      "text/html": [
       "<div>\n",
       "<style scoped>\n",
       "    .dataframe tbody tr th:only-of-type {\n",
       "        vertical-align: middle;\n",
       "    }\n",
       "\n",
       "    .dataframe tbody tr th {\n",
       "        vertical-align: top;\n",
       "    }\n",
       "\n",
       "    .dataframe thead th {\n",
       "        text-align: right;\n",
       "    }\n",
       "</style>\n",
       "<table border=\"1\" class=\"dataframe\">\n",
       "  <thead>\n",
       "    <tr style=\"text-align: right;\">\n",
       "      <th></th>\n",
       "      <th>Accuracy</th>\n",
       "      <th>F1-score</th>\n",
       "      <th>Recall</th>\n",
       "      <th>Precision</th>\n",
       "      <th>AUC_ROC</th>\n",
       "      <th>AUPRC</th>\n",
       "    </tr>\n",
       "  </thead>\n",
       "  <tbody>\n",
       "    <tr>\n",
       "      <th>LR</th>\n",
       "      <td>0.947859</td>\n",
       "      <td>[0.9489277409353198, 0.9467444993264481]</td>\n",
       "      <td>[0.9745267999292411, 0.9215034965034965]</td>\n",
       "      <td>[0.9246391406512252, 0.9734072022160665]</td>\n",
       "      <td>0.948015</td>\n",
       "      <td>0.936478</td>\n",
       "    </tr>\n",
       "    <tr>\n",
       "      <th>DT</th>\n",
       "      <td>0.979689</td>\n",
       "      <td>[0.9795593310326519, 0.9798165137614679]</td>\n",
       "      <td>[0.9791261277197948, 0.9802447552447553]</td>\n",
       "      <td>[0.9799929178470255, 0.9793886462882097]</td>\n",
       "      <td>0.979685</td>\n",
       "      <td>0.969976</td>\n",
       "    </tr>\n",
       "    <tr>\n",
       "      <th>RFC</th>\n",
       "      <td>0.998593</td>\n",
       "      <td>[0.9985848222182911, 0.9986013986013986]</td>\n",
       "      <td>[0.9985848222182911, 0.9986013986013986]</td>\n",
       "      <td>[0.9985848222182911, 0.9986013986013986]</td>\n",
       "      <td>0.998593</td>\n",
       "      <td>0.997908</td>\n",
       "    </tr>\n",
       "  </tbody>\n",
       "</table>\n",
       "</div>"
      ],
      "text/plain": [
       "     Accuracy                                  F1-score  \\\n",
       "LR   0.947859  [0.9489277409353198, 0.9467444993264481]   \n",
       "DT   0.979689  [0.9795593310326519, 0.9798165137614679]   \n",
       "RFC  0.998593  [0.9985848222182911, 0.9986013986013986]   \n",
       "\n",
       "                                       Recall  \\\n",
       "LR   [0.9745267999292411, 0.9215034965034965]   \n",
       "DT   [0.9791261277197948, 0.9802447552447553]   \n",
       "RFC  [0.9985848222182911, 0.9986013986013986]   \n",
       "\n",
       "                                    Precision   AUC_ROC     AUPRC  \n",
       "LR   [0.9246391406512252, 0.9734072022160665]  0.948015  0.936478  \n",
       "DT   [0.9799929178470255, 0.9793886462882097]  0.979685  0.969976  \n",
       "RFC  [0.9985848222182911, 0.9986013986013986]  0.998593  0.997908  "
      ]
     },
     "execution_count": 16,
     "metadata": {},
     "output_type": "execute_result"
    }
   ],
   "source": [
    "#经测试集训练出的各模型的测试结果\n",
    "best_models=[LR_best_estimator,DT_best_estimator,RFC_best_estimator]\n",
    "\n",
    "Accuracy_results,F1_results,Recall_results,Precision_results,AUC_ROC_results,AUPRC_results=caculate(best_models,X_test,y_test)\n",
    "\n",
    "result_df['Accuracy']=Accuracy_results\n",
    "result_df['F1-score']=F1_results\n",
    "result_df['Recall']=Recall_results\n",
    "result_df['Precision']=Precision_results\n",
    "result_df['AUC_ROC']=AUC_ROC_results\n",
    "result_df['AUPRC']=AUPRC_results\n",
    "result_df"
   ]
  },
  {
   "cell_type": "code",
   "execution_count": 17,
   "id": "34f42eec-f8fc-4c96-90f9-f0b796e83aac",
   "metadata": {},
   "outputs": [
    {
     "data": {
      "image/png": "[encoded data removed]",
      "text/plain": [
       "<Figure size 1000x600 with 1 Axes>"
      ]
     },
     "metadata": {},
     "output_type": "display_data"
    }
   ],
   "source": [
    "#F1-score的可视化\n",
    "import seaborn as sns\n",
    "import matplotlib.pyplot as plt\n",
    "\n",
    "# 将 F1-score 列中的两个值拆分为两列，命名为 F1-score_Pos 和 F1-score_Neg\n",
    "result_df[['F1-score_Pos', 'F1-score_Neg']] = pd.DataFrame(result_df['F1-score'].tolist(), index=result_df.index)\n",
    "\n",
    "# 创建一个新的 DataFrame 以便 seaborn 能够正确处理数据\n",
    "f1_data = pd.DataFrame({\n",
    "    'Model': result_df.index.tolist() * 2,  # 乘以 2 是因为每个模型有两个 F1-score\n",
    "    'F1-score': result_df['F1-score_Pos'].values.tolist() + result_df['F1-score_Neg'].values.tolist(),\n",
    "    'Class': ['Positive'] * len(result_df) + ['Negative'] * len(result_df)  # 添加一个表示类别的列\n",
    "})\n",
    "\n",
    "# 绘制 F1-score\n",
    "plt.figure(figsize=(10, 6))\n",
    "sns.barplot(x='Model', y='F1-score', hue='Class', data=f1_data)\n",
    "plt.title('F1-score for Different Models (Positive and Negative Classes)')\n",
    "plt.show()"
   ]
  },
  {
   "cell_type": "code",
   "execution_count": 18,
   "id": "01a1c454-4041-4f3f-88bf-ff7e30bf4a8d",
   "metadata": {},
   "outputs": [
    {
     "data": {
      "image/png": "[encoded data removed]",
      "text/plain": [
       "<Figure size 1000x600 with 1 Axes>"
      ]
     },
     "metadata": {},
     "output_type": "display_data"
    }
   ],
   "source": [
    "#AUPRC的可视化\n",
    "import seaborn as sns\n",
    "import matplotlib.pyplot as plt\n",
    "\n",
    "# 创建一个新的 DataFrame 以便 seaborn 处理数据\n",
    "auprc_data = pd.DataFrame({\n",
    "    'Model': result_df.index.tolist(),\n",
    "    'AUPRC': result_df['AUPRC'].values\n",
    "})\n",
    "\n",
    "# 绘制 AUPRC\n",
    "plt.figure(figsize=(10, 6))\n",
    "sns.barplot(x='Model', y='AUPRC', data=auprc_data)\n",
    "plt.title('AUPRC for Different Models')\n",
    "plt.show()"
   ]
  },
  {
   "cell_type": "code",
   "execution_count": 19,
   "id": "ea3154b8-df02-47b3-a38e-f294d794285b",
   "metadata": {},
   "outputs": [],
   "source": [
    "#比较来看选择随机森林模型效果最佳"
   ]
  }
 ],
 "metadata": {
  "kernelspec": {
   "display_name": "modin-hdk",
   "language": "python",
   "name": "modin-hdk"
  },
  "language_info": {
   "codemirror_mode": {
    "name": "ipython",
    "version": 3
   },
   "file_extension": ".py",
   "mimetype": "text/x-python",
   "name": "python",
   "nbconvert_exporter": "python",
   "pygments_lexer": "ipython3",
   "version": "3.9.16"
  }
 },
 "nbformat": 4,
 "nbformat_minor": 5
}
